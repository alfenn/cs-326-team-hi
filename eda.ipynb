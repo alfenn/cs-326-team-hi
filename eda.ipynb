{
 "cells": [
  {
   "cell_type": "markdown",
   "metadata": {},
   "source": [
    "## References\n",
    "\n",
    "- Dataset: https://www.kaggle.com/code/joebeachcapital/stack-overflow-survey-eda-starter/notebook\n",
    "\n",
    "- Existing EDA: https://survey.stackoverflow.co/2024/ \n",
    "\n",
    "- EDA for categorical variables: https://www.kaggle.com/code/nextbigwhat/eda-for-categorical-variables-a-beginner-s-way \n",
    "\n",
    "- Feature selection for categorical data: https://machinelearningmastery.com/feature-selection-with-categorical-data/ \n",
    "\n",
    "## Notes \n",
    "### More important categories\n",
    "- TODO Recreate bar chart of response categories\n",
    "\n",
    "Developer profile:\n",
    "- Educational attainment, Learning to code\n",
    "- Years coding (filter by country)\n",
    "- Years coding professionally\n",
    "- Developer type\n",
    "- Geography\n",
    "- Age (curious if we stratfiy by years of coding experience, if we see a correlation between age and income)\n",
    "\n",
    "Technology:\n",
    "- Languages\n",
    "- Databases\n",
    "- Cloud platforms\n",
    "- Web frameworks and technologies\n",
    "- Embedded technologies\n",
    "- Other frameworks and libraries\n",
    "- Other tools (e.g., Docker)\n",
    "- IDEs\n",
    "\n",
    "### Less important categories\n",
    "- Syncronous tools (e.g., Teams)\n",
    "- Asyncronous tools (e.g., Jira)\n"
   ]
  },
  {
   "cell_type": "markdown",
   "metadata": {},
   "source": [
    "## Bar charts"
   ]
  },
  {
   "cell_type": "code",
   "execution_count": null,
   "metadata": {},
   "outputs": [],
   "source": []
  },
  {
   "cell_type": "markdown",
   "metadata": {},
   "source": [
    "## Feature selection over categorical variables"
   ]
  },
  {
   "cell_type": "code",
   "execution_count": null,
   "metadata": {},
   "outputs": [],
   "source": []
  },
  {
   "cell_type": "markdown",
   "metadata": {},
   "source": [
    "## Covariance matrix"
   ]
  },
  {
   "cell_type": "markdown",
   "metadata": {},
   "source": []
  }
 ],
 "metadata": {
  "language_info": {
   "name": "python"
  }
 },
 "nbformat": 4,
 "nbformat_minor": 2
}
