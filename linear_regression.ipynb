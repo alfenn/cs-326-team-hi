{
 "cells": [
  {
   "cell_type": "code",
   "execution_count": 2,
   "metadata": {},
   "outputs": [],
   "source": [
    "import pandas as pd\n",
    "from sklearn.linear_model import LinearRegression\n",
    "from sklearn.metrics import mean_squared_error, r2_score\n",
    "from sklearn.model_selection import train_test_split"
   ]
  },
  {
   "cell_type": "code",
   "execution_count": 3,
   "metadata": {},
   "outputs": [],
   "source": [
    "train_df: pd.DataFrame = pd.read_pickle('train_df_20241121_223002.pkl')\n",
    "val_df: pd.DataFrame = pd.read_pickle('val_df_20241121_223002.pkl')\n",
    "test_df: pd.DataFrame = pd.read_pickle('test_df_20241121_223002.pkl')\n",
    "\n",
    "X_train = train_df.drop(columns=['ConvertedCompYearly', 'MainBranch', 'RemoteWork', 'DevType', 'Country', 'AISelect'])\n",
    "y_train = train_df['ConvertedCompYearly']\n",
    "\n",
    "X_val = val_df.drop(columns=['ConvertedCompYearly', 'MainBranch', 'RemoteWork', 'DevType', 'Country', 'AISelect'])\n",
    "y_val = val_df['ConvertedCompYearly']\n",
    "\n",
    "X_test = test_df.drop(columns=['ConvertedCompYearly', 'MainBranch', 'RemoteWork', 'DevType', 'Country', 'AISelect'])\n",
    "y_test = test_df['ConvertedCompYearly']"
   ]
  },
  {
   "cell_type": "code",
   "execution_count": 4,
   "metadata": {},
   "outputs": [
    {
     "name": "stdout",
     "output_type": "stream",
     "text": [
      "Validation MSE: 9876030970.642849\n",
      "Validation R^2: 0.00905738650867638\n",
      "Test MSE: 94730880802.32141\n",
      "Test R^2: 0.061053309668367306\n"
     ]
    }
   ],
   "source": [
    "model = LinearRegression()\n",
    "model.fit(X_train, y_train)\n",
    "\n",
    "# Predict on validation set\n",
    "y_val_pred = model.predict(X_val)\n",
    "\n",
    "# Evaluate the model\n",
    "mse_val = mean_squared_error(y_val, y_val_pred)\n",
    "r2_val = r2_score(y_val, y_val_pred)\n",
    "\n",
    "print(f\"Validation MSE: {mse_val}\")\n",
    "print(f\"Validation R^2: {r2_val}\")\n",
    "\n",
    "# Predict on test set for final evaluation\n",
    "y_test_pred = model.predict(X_test)\n",
    "mse_test = mean_squared_error(y_test, y_test_pred)\n",
    "r2_test = r2_score(y_test, y_test_pred)\n",
    "\n",
    "print(f\"Test MSE: {mse_test}\")\n",
    "print(f\"Test R^2: {r2_test}\")"
   ]
  }
 ],
 "metadata": {
  "kernelspec": {
   "display_name": "Python 3",
   "language": "python",
   "name": "python3"
  },
  "language_info": {
   "codemirror_mode": {
    "name": "ipython",
    "version": 3
   },
   "file_extension": ".py",
   "mimetype": "text/x-python",
   "name": "python",
   "nbconvert_exporter": "python",
   "pygments_lexer": "ipython3",
   "version": "3.11.9"
  }
 },
 "nbformat": 4,
 "nbformat_minor": 2
}
