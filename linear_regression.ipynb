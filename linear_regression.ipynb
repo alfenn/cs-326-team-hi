{
  "nbformat": 4,
  "nbformat_minor": 0,
  "metadata": {
    "colab": {
      "provenance": [],
      "authorship_tag": "ABX9TyNIR0P6lbQrK4fPvr7Zqb8J",
      "include_colab_link": true
    },
    "kernelspec": {
      "name": "python3",
      "display_name": "Python 3"
    },
    "language_info": {
      "name": "python"
    }
  },
  "cells": [
    {
      "cell_type": "markdown",
      "metadata": {
        "id": "view-in-github",
        "colab_type": "text"
      },
      "source": [
        "<a href=\"https://colab.research.google.com/github/alfenn/cs-326-team-hi/blob/main/linear_regression.ipynb\" target=\"_parent\"><img src=\"https://colab.research.google.com/assets/colab-badge.svg\" alt=\"Open In Colab\"/></a>"
      ]
    },
    {
      "cell_type": "code",
      "source": [
        "import pandas as pd\n",
        "from sklearn.linear_model import LinearRegression\n",
        "from sklearn.metrics import mean_squared_error, r2_score\n",
        "from sklearn.model_selection import train_test_split"
      ],
      "metadata": {
        "id": "visaXcVcyawK"
      },
      "execution_count": 1,
      "outputs": []
    },
    {
      "cell_type": "code",
      "source": [
        "train_df: pd.DataFrame = pd.read_pickle('train_df_20241121_223002.pkl')\n",
        "val_df: pd.DataFrame = pd.read_pickle('val_df_20241121_223002.pkl')\n",
        "test_df: pd.DataFrame = pd.read_pickle('test_df_20241121_223002.pkl')\n",
        "\n",
        "X_train = train_df.drop(columns=['ConvertedCompYearly', 'MainBranch', 'RemoteWork', 'DevType', 'Country', 'AISelect'])\n",
        "y_train = train_df['ConvertedCompYearly']\n",
        "\n",
        "X_val = val_df.drop(columns=['ConvertedCompYearly', 'MainBranch', 'RemoteWork', 'DevType', 'Country', 'AISelect'])\n",
        "y_val = val_df['ConvertedCompYearly']\n",
        "\n",
        "X_test = test_df.drop(columns=['ConvertedCompYearly', 'MainBranch', 'RemoteWork', 'DevType', 'Country', 'AISelect'])\n",
        "y_test = test_df['ConvertedCompYearly']"
      ],
      "metadata": {
        "id": "Buidh1rnyf1i"
      },
      "execution_count": null,
      "outputs": []
    },
    {
      "cell_type": "code",
      "source": [
        "model = LinearRegression()\n",
        "model.fit(X_train, y_train)\n",
        "\n",
        "# Predict on validation set\n",
        "y_val_pred = model.predict(X_val)\n",
        "\n",
        "# Evaluate the model\n",
        "mse_val = mean_squared_error(y_val, y_val_pred)\n",
        "r2_val = r2_score(y_val, y_val_pred)\n",
        "\n",
        "print(f\"Validation MSE: {mse_val}\")\n",
        "print(f\"Validation R^2: {r2_val}\")\n",
        "\n",
        "# Predict on test set for final evaluation\n",
        "y_test_pred = model.predict(X_test)\n",
        "mse_test = mean_squared_error(y_test, y_test_pred)\n",
        "r2_test = r2_score(y_test, y_test_pred)\n",
        "\n",
        "print(f\"Test MSE: {mse_test}\")\n",
        "print(f\"Test R^2: {r2_test}\")"
      ],
      "metadata": {
        "id": "mv3fJdooylRA"
      },
      "execution_count": null,
      "outputs": []
    }
  ]
}