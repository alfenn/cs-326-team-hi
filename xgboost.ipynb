{
 "cells": [
  {
   "cell_type": "code",
   "execution_count": 1,
   "metadata": {},
   "outputs": [],
   "source": [
    "import pandas as pd\n",
    "import xgboost as xgb\n",
    "from sklearn.metrics import mean_squared_error, r2_score\n",
    "import numpy as np\n",
    "import pprint"
   ]
  },
  {
   "cell_type": "code",
   "execution_count": 2,
   "metadata": {},
   "outputs": [],
   "source": [
    "train_df: pd.DataFrame = pd.read_pickle('train_df_20241121_223002.pkl')\n",
    "val_df: pd.DataFrame = pd.read_pickle('val_df_20241121_223002.pkl')\n",
    "test_df: pd.DataFrame = pd.read_pickle('test_df_20241121_223002.pkl')"
   ]
  },
  {
   "cell_type": "code",
   "execution_count": 3,
   "metadata": {},
   "outputs": [
    {
     "name": "stdout",
     "output_type": "stream",
     "text": [
      "438\n",
      "MainBranch (2): ['I am a developer by profession'\n",
      " 'I am not primarily a developer, but I write code sometimes as part of my work/studies']\n",
      "RemoteWork (3): ['Remote' 'Hybrid (some remote, some in-person)' 'In-person']\n",
      "DevType (34): ['Developer, embedded applications or devices' 'Developer, back-end'\n",
      " 'Other (please specify):' 'Developer, desktop or enterprise applications'\n",
      " 'Academic researcher' 'Developer, full-stack' 'Security professional'\n",
      " 'Project manager' 'Developer, game or graphics' 'Developer, mobile'\n",
      " 'Developer, front-end' 'DevOps specialist' 'Engineering manager'\n",
      " 'Research & Development role' 'Data or business analyst'\n",
      " 'Cloud infrastructure engineer' 'Data engineer' 'Scientist'\n",
      " 'Data scientist or machine learning specialist' 'Developer, QA or test'\n",
      " 'Developer, AI' 'Engineer, site reliability' 'Designer' 'Blockchain'\n",
      " 'Developer Advocate' 'Senior Executive (C-Suite, VP, etc.)' 'Student'\n",
      " 'System administrator' 'Database administrator' 'Educator'\n",
      " 'Hardware Engineer' 'Developer Experience'\n",
      " 'Marketing or sales professional' 'Product manager']\n",
      "Country (158): ['Russian Federation' 'France' 'Australia' 'Germany'\n",
      " 'United Kingdom of Great Britain and Northern Ireland'\n",
      " 'United States of America' 'Canada' 'India' 'Italy' 'Brazil' 'Austria'\n",
      " 'Sweden' 'Bulgaria' 'Israel' 'Portugal' 'Switzerland' 'Czech Republic'\n",
      " 'Ukraine' 'Spain' 'Netherlands' 'United Arab Emirates' 'Taiwan' 'Turkey'\n",
      " 'Serbia' 'South Africa' 'Poland' 'Argentina' 'Central African Republic'\n",
      " 'Uzbekistan' 'Sri Lanka' 'Greece' 'Uruguay'\n",
      " \"Lao People's Democratic Republic\" 'Egypt' 'Viet Nam' 'Mexico' 'Finland'\n",
      " 'Belgium' 'Panama' 'Romania' 'Ecuador' 'Palestine' 'Thailand' 'Denmark'\n",
      " 'Slovakia' 'China' 'Cyprus' 'Bolivia' 'Colombia' 'Belarus' 'Philippines'\n",
      " 'Republic of Moldova' 'Pakistan' 'Tunisia' 'Ireland' 'Andorra'\n",
      " 'Iran, Islamic Republic of...' 'Malaysia' 'Singapore' 'Kyrgyzstan'\n",
      " 'Yemen' \"Côte d'Ivoire\" 'South Korea' 'New Zealand'\n",
      " 'Venezuela, Bolivarian Republic of...' 'Croatia' 'Estonia' 'Afghanistan'\n",
      " 'Norway' 'Japan' 'Hungary' 'Lithuania' 'Chile' 'Honduras' 'Fiji' 'Peru'\n",
      " 'Zimbabwe' 'Myanmar' 'Nigeria' 'Morocco' 'Bosnia and Herzegovina'\n",
      " 'Guatemala' 'Hong Kong (S.A.R.)' 'Kenya' 'Bangladesh' 'Malta' 'Slovenia'\n",
      " 'Dominican Republic' 'Cuba' 'Saudi Arabia' 'Albania' 'Latvia'\n",
      " 'Kazakhstan' 'Indonesia' 'Armenia' 'Namibia' 'Mauritius' 'Ethiopia'\n",
      " 'Ghana' 'Lebanon' 'Azerbaijan' 'El Salvador' 'Rwanda' 'Iceland' 'Nepal'\n",
      " 'Syrian Arab Republic' 'Turkmenistan' 'Uganda' 'Georgia' 'Luxembourg'\n",
      " 'Costa Rica' 'Jordan' 'Nicaragua' 'Cape Verde' 'Montenegro' 'Paraguay'\n",
      " 'Trinidad and Tobago' 'Algeria' 'Cambodia' 'Iraq' 'Benin' 'Kosovo'\n",
      " 'Bhutan' 'Barbados' 'Nomadic' 'Qatar' 'Maldives' 'Mauritania' 'Burundi'\n",
      " 'United Republic of Tanzania' 'Republic of North Macedonia' 'Jamaica'\n",
      " 'Liechtenstein' 'Isle of Man' 'Republic of Korea' 'Somalia'\n",
      " 'Burkina Faso' 'Cameroon' 'Tajikistan' 'Mozambique' 'Madagascar' 'Guyana'\n",
      " 'Kuwait' 'Botswana' 'Mongolia' 'Angola' 'Libyan Arab Jamahiriya'\n",
      " \"Democratic People's Republic of Korea\" 'Zambia' 'Samoa' 'Sudan'\n",
      " 'Congo, Republic of the...' 'Suriname' 'Democratic Republic of the Congo'\n",
      " 'Brunei Darussalam' 'Antigua and Barbuda' 'Gabon' 'Haiti']\n",
      "AISelect (3): ['Yes' \"No, and I don't plan to\" 'No, but I plan to soon']\n"
     ]
    }
   ],
   "source": [
    "# Explore the data\n",
    "print(len(train_df.columns))\n",
    "\n",
    "# for col in train_df.columns:\n",
    "#     unique_values = train_df[col].unique()\n",
    "#     if len(unique_values) > 5:\n",
    "#         unique_values = unique_values[:5]\n",
    "#     print(f'{col}: {unique_values}')\n",
    "\n",
    "# Invalid columns when training:MainBranch: object, RemoteWork: object, DevType: object, Country: object, AISelect: object\n",
    "invalid_cols = ['MainBranch', 'RemoteWork', 'DevType', 'Country', 'AISelect']\n",
    "for col in train_df.columns:\n",
    "    if col in invalid_cols:\n",
    "        unique_values = train_df[col].unique()\n",
    "        # if len(unique_values) > 5:\n",
    "        #     unique_values = unique_values[:5]\n",
    "        print(f'{col} ({len(unique_values)}): {unique_values}')\n",
    "\n",
    "# Fix for error: DataFrame.dtypes for data must be int, float, bool or category. When categorical type is supplied, the experimental DMatrix parameter`enable_categorical` must be set to `True`\n",
    "# Convert invalid columns to category type\n",
    "for col in invalid_cols:\n",
    "    train_df[col] = train_df[col].astype('category')\n",
    "    val_df[col] = val_df[col].astype('category')\n",
    "    test_df[col] = test_df[col].astype('category')\n"
   ]
  },
  {
   "cell_type": "code",
   "execution_count": 4,
   "metadata": {},
   "outputs": [],
   "source": [
    "# Prepare the data\n",
    "target = 'ConvertedCompYearly'\n",
    "X_train = train_df.drop(target, axis=1)\n",
    "y_train = train_df[target]\n",
    "X_val = val_df.drop(target, axis=1)\n",
    "y_val = val_df[target]\n",
    "X_test = test_df.drop(target, axis=1)\n",
    "y_test = test_df[target]\n",
    "\n"
   ]
  },
  {
   "cell_type": "code",
   "execution_count": 7,
   "metadata": {},
   "outputs": [],
   "source": [
    "# Initialize XGBoost model\n",
    "xgb_model = xgb.XGBRegressor(\n",
    "    n_estimators=1000,\n",
    "    learning_rate=0.01,\n",
    "    max_depth=6,\n",
    "    min_child_weight=1,\n",
    "    subsample=0.8,\n",
    "    colsample_bytree=0.8,\n",
    "    random_state=42,\n",
    "    enable_categorical=True\n",
    ")\n"
   ]
  },
  {
   "cell_type": "code",
   "execution_count": 8,
   "metadata": {},
   "outputs": [
    {
     "name": "stdout",
     "output_type": "stream",
     "text": [
      "[0]\tvalidation_0-rmse:165123.21600\tvalidation_1-rmse:99057.99768\n",
      "[100]\tvalidation_0-rmse:98079.20581\tvalidation_1-rmse:57746.76978\n",
      "[200]\tvalidation_0-rmse:62677.59998\tvalidation_1-rmse:43398.70877\n",
      "[300]\tvalidation_0-rmse:41439.55873\tvalidation_1-rmse:38541.82834\n",
      "[400]\tvalidation_0-rmse:27293.90096\tvalidation_1-rmse:36630.88925\n",
      "[500]\tvalidation_0-rmse:18355.30554\tvalidation_1-rmse:36125.38273\n",
      "[600]\tvalidation_0-rmse:12826.72235\tvalidation_1-rmse:35973.85609\n",
      "[700]\tvalidation_0-rmse:9138.64256\tvalidation_1-rmse:36206.78824\n",
      "[800]\tvalidation_0-rmse:6561.30896\tvalidation_1-rmse:36442.24571\n",
      "[900]\tvalidation_0-rmse:4874.22386\tvalidation_1-rmse:36708.94001\n",
      "[999]\tvalidation_0-rmse:3870.74721\tvalidation_1-rmse:36953.69735\n"
     ]
    },
    {
     "data": {
      "text/html": [
       "<style>#sk-container-id-1 {color: black;}#sk-container-id-1 pre{padding: 0;}#sk-container-id-1 div.sk-toggleable {background-color: white;}#sk-container-id-1 label.sk-toggleable__label {cursor: pointer;display: block;width: 100%;margin-bottom: 0;padding: 0.3em;box-sizing: border-box;text-align: center;}#sk-container-id-1 label.sk-toggleable__label-arrow:before {content: \"▸\";float: left;margin-right: 0.25em;color: #696969;}#sk-container-id-1 label.sk-toggleable__label-arrow:hover:before {color: black;}#sk-container-id-1 div.sk-estimator:hover label.sk-toggleable__label-arrow:before {color: black;}#sk-container-id-1 div.sk-toggleable__content {max-height: 0;max-width: 0;overflow: hidden;text-align: left;background-color: #f0f8ff;}#sk-container-id-1 div.sk-toggleable__content pre {margin: 0.2em;color: black;border-radius: 0.25em;background-color: #f0f8ff;}#sk-container-id-1 input.sk-toggleable__control:checked~div.sk-toggleable__content {max-height: 200px;max-width: 100%;overflow: auto;}#sk-container-id-1 input.sk-toggleable__control:checked~label.sk-toggleable__label-arrow:before {content: \"▾\";}#sk-container-id-1 div.sk-estimator input.sk-toggleable__control:checked~label.sk-toggleable__label {background-color: #d4ebff;}#sk-container-id-1 div.sk-label input.sk-toggleable__control:checked~label.sk-toggleable__label {background-color: #d4ebff;}#sk-container-id-1 input.sk-hidden--visually {border: 0;clip: rect(1px 1px 1px 1px);clip: rect(1px, 1px, 1px, 1px);height: 1px;margin: -1px;overflow: hidden;padding: 0;position: absolute;width: 1px;}#sk-container-id-1 div.sk-estimator {font-family: monospace;background-color: #f0f8ff;border: 1px dotted black;border-radius: 0.25em;box-sizing: border-box;margin-bottom: 0.5em;}#sk-container-id-1 div.sk-estimator:hover {background-color: #d4ebff;}#sk-container-id-1 div.sk-parallel-item::after {content: \"\";width: 100%;border-bottom: 1px solid gray;flex-grow: 1;}#sk-container-id-1 div.sk-label:hover label.sk-toggleable__label {background-color: #d4ebff;}#sk-container-id-1 div.sk-serial::before {content: \"\";position: absolute;border-left: 1px solid gray;box-sizing: border-box;top: 0;bottom: 0;left: 50%;z-index: 0;}#sk-container-id-1 div.sk-serial {display: flex;flex-direction: column;align-items: center;background-color: white;padding-right: 0.2em;padding-left: 0.2em;position: relative;}#sk-container-id-1 div.sk-item {position: relative;z-index: 1;}#sk-container-id-1 div.sk-parallel {display: flex;align-items: stretch;justify-content: center;background-color: white;position: relative;}#sk-container-id-1 div.sk-item::before, #sk-container-id-1 div.sk-parallel-item::before {content: \"\";position: absolute;border-left: 1px solid gray;box-sizing: border-box;top: 0;bottom: 0;left: 50%;z-index: -1;}#sk-container-id-1 div.sk-parallel-item {display: flex;flex-direction: column;z-index: 1;position: relative;background-color: white;}#sk-container-id-1 div.sk-parallel-item:first-child::after {align-self: flex-end;width: 50%;}#sk-container-id-1 div.sk-parallel-item:last-child::after {align-self: flex-start;width: 50%;}#sk-container-id-1 div.sk-parallel-item:only-child::after {width: 0;}#sk-container-id-1 div.sk-dashed-wrapped {border: 1px dashed gray;margin: 0 0.4em 0.5em 0.4em;box-sizing: border-box;padding-bottom: 0.4em;background-color: white;}#sk-container-id-1 div.sk-label label {font-family: monospace;font-weight: bold;display: inline-block;line-height: 1.2em;}#sk-container-id-1 div.sk-label-container {text-align: center;}#sk-container-id-1 div.sk-container {/* jupyter's `normalize.less` sets `[hidden] { display: none; }` but bootstrap.min.css set `[hidden] { display: none !important; }` so we also need the `!important` here to be able to override the default hidden behavior on the sphinx rendered scikit-learn.org. See: https://github.com/scikit-learn/scikit-learn/issues/21755 */display: inline-block !important;position: relative;}#sk-container-id-1 div.sk-text-repr-fallback {display: none;}</style><div id=\"sk-container-id-1\" class=\"sk-top-container\"><div class=\"sk-text-repr-fallback\"><pre>XGBRegressor(base_score=None, booster=None, callbacks=None,\n",
       "             colsample_bylevel=None, colsample_bynode=None,\n",
       "             colsample_bytree=0.8, device=None, early_stopping_rounds=None,\n",
       "             enable_categorical=True, eval_metric=None, feature_types=None,\n",
       "             gamma=None, grow_policy=None, importance_type=None,\n",
       "             interaction_constraints=None, learning_rate=0.01, max_bin=None,\n",
       "             max_cat_threshold=None, max_cat_to_onehot=None,\n",
       "             max_delta_step=None, max_depth=6, max_leaves=None,\n",
       "             min_child_weight=1, missing=nan, monotone_constraints=None,\n",
       "             multi_strategy=None, n_estimators=1000, n_jobs=None,\n",
       "             num_parallel_tree=None, random_state=42, ...)</pre><b>In a Jupyter environment, please rerun this cell to show the HTML representation or trust the notebook. <br />On GitHub, the HTML representation is unable to render, please try loading this page with nbviewer.org.</b></div><div class=\"sk-container\" hidden><div class=\"sk-item\"><div class=\"sk-estimator sk-toggleable\"><input class=\"sk-toggleable__control sk-hidden--visually\" id=\"sk-estimator-id-1\" type=\"checkbox\" checked><label for=\"sk-estimator-id-1\" class=\"sk-toggleable__label sk-toggleable__label-arrow\">XGBRegressor</label><div class=\"sk-toggleable__content\"><pre>XGBRegressor(base_score=None, booster=None, callbacks=None,\n",
       "             colsample_bylevel=None, colsample_bynode=None,\n",
       "             colsample_bytree=0.8, device=None, early_stopping_rounds=None,\n",
       "             enable_categorical=True, eval_metric=None, feature_types=None,\n",
       "             gamma=None, grow_policy=None, importance_type=None,\n",
       "             interaction_constraints=None, learning_rate=0.01, max_bin=None,\n",
       "             max_cat_threshold=None, max_cat_to_onehot=None,\n",
       "             max_delta_step=None, max_depth=6, max_leaves=None,\n",
       "             min_child_weight=1, missing=nan, monotone_constraints=None,\n",
       "             multi_strategy=None, n_estimators=1000, n_jobs=None,\n",
       "             num_parallel_tree=None, random_state=42, ...)</pre></div></div></div></div></div>"
      ],
      "text/plain": [
       "XGBRegressor(base_score=None, booster=None, callbacks=None,\n",
       "             colsample_bylevel=None, colsample_bynode=None,\n",
       "             colsample_bytree=0.8, device=None, early_stopping_rounds=None,\n",
       "             enable_categorical=True, eval_metric=None, feature_types=None,\n",
       "             gamma=None, grow_policy=None, importance_type=None,\n",
       "             interaction_constraints=None, learning_rate=0.01, max_bin=None,\n",
       "             max_cat_threshold=None, max_cat_to_onehot=None,\n",
       "             max_delta_step=None, max_depth=6, max_leaves=None,\n",
       "             min_child_weight=1, missing=nan, monotone_constraints=None,\n",
       "             multi_strategy=None, n_estimators=1000, n_jobs=None,\n",
       "             num_parallel_tree=None, random_state=42, ...)"
      ]
     },
     "execution_count": 8,
     "metadata": {},
     "output_type": "execute_result"
    }
   ],
   "source": [
    "# Train the model with early stopping\n",
    "\n",
    "# Error w categorical columns: \n",
    "# Invalid columns:MainBranch: object, RemoteWork: object, DevType: object, Country: object, AISelect: object\n",
    "\n",
    "xgb_model.fit(\n",
    "    X_train, y_train,\n",
    "    eval_set=[(X_train, y_train), (X_val, y_val)],\n",
    "    verbose=100\n",
    ")\n",
    "\n"
   ]
  },
  {
   "cell_type": "code",
   "execution_count": 10,
   "metadata": {},
   "outputs": [
    {
     "name": "stdout",
     "output_type": "stream",
     "text": [
      "\n",
      "Model Performance Metrics:\n",
      "------------------------------\n",
      "Training RMSE: 3870.7472\n",
      "Training R2: 0.9995\n",
      "\n",
      "Validation RMSE: 36953.6974\n",
      "Validation R2: 0.8630\n",
      "\n",
      "Test RMSE: 140903.9077\n",
      "Test R2: 0.8032\n"
     ]
    },
    {
     "data": {
      "application/vnd.plotly.v1+json": {
       "config": {
        "plotlyServerURL": "https://plot.ly"
       },
       "data": [
        {
         "marker": {
          "color": "rgba(58, 71, 80, 0.6)",
          "line": {
           "color": "rgba(246, 78, 139, 1.1)",
           "width": 1
          }
         },
         "orientation": "v",
         "text": [
          0.33811572194099426,
          0.08771666139364243,
          0.060543354600667953,
          0.053992461413145065,
          0.050139281898736954,
          0.04570389539003372,
          0.031028833240270615,
          0.028887277469038963,
          0.02848644368350506,
          0.021518727764487267,
          0.012660358101129532,
          0.012242849916219711,
          0.010177159681916237,
          0.009669756516814232,
          0.008936108089983463,
          0.00823733676224947,
          0.007190832868218422,
          0.006950813811272383,
          0.005825900472700596,
          0.00562534062191844,
          0.005422493442893028,
          0.005252729170024395,
          0.004447152838110924,
          0.004208149388432503,
          0.0041303737089037895,
          0.003942942246794701,
          0.003810109803453088,
          0.0037130091805011034,
          0.003426190232858062,
          0.002922061365097761,
          0.002876118989661336,
          0.002803713781759143,
          0.0027544277254492044,
          0.002746396232396364,
          0.002693537389859557,
          0.002450411906465888,
          0.002423394238576293,
          0.0023613052908331156,
          0.0021075664553791285,
          0.0020847104024142027,
          0.002000869018957019,
          0.001973565435037017,
          0.0018465400207787752,
          0.001777765341103077,
          0.001674991799518466,
          0.0016375776613131166,
          0.0015977151924744248,
          0.0015654901508241892,
          0.0014906410360708833,
          0.001348950550891459,
          0.0013339573051780462,
          0.0013168391305953264,
          0.0012712301686406136,
          0.0012199673801660538,
          0.0012033090461045504,
          0.0011807550908997655,
          0.0011710477992892265,
          0.0011518774554133415,
          0.00112557178363204,
          0.0011187385534867644,
          0.00110552366822958,
          0.0011047953739762306,
          0.0011021433165296912,
          0.0010465513914823532,
          0.0010053541045635939,
          0.0009999240282922983,
          0.0009937789291143417,
          0.0009883271995931864,
          0.0009477899293415248,
          0.0009164948714897037,
          0.0009107395308092237,
          0.0009034581598825753,
          0.0008683426422066987,
          0.0008625771733932197,
          0.0008603142923675478,
          0.0008427706779912114,
          0.000839538755826652,
          0.0008287465898320079,
          0.0008268263190984726,
          0.0007993969484232366,
          0.0007851928239688277,
          0.000763740565162152,
          0.0007433981518261135,
          0.0007278784178197384,
          0.0007262083818204701,
          0.0007244114531204104,
          0.0007199485553428531,
          0.0006886733463034034,
          0.0006864313036203384,
          0.0006804435979574919,
          0.00067356281215325,
          0.0006673900061286986,
          0.0006593499565497041,
          0.0006579639157280326,
          0.000656451506074518,
          0.0006531447870656848,
          0.0006307594012469053,
          0.000630119233392179,
          0.000623952888417989,
          0.0006145504885353148,
          0.0006085963686928153,
          0.0005893072229810059,
          0.0005834319163113832,
          0.0005786435212939978,
          0.0005785604007542133,
          0.0005653123371303082,
          0.0005533896037377417,
          0.0005470179603435099,
          0.0005413974868133664,
          0.0005208101938478649,
          0.0005196490092203021,
          0.0005151942023076117,
          0.0005116495885886252,
          0.0005025407299399376,
          0.0005011840257793665,
          0.0004966469132341444,
          0.0004915635217912495,
          0.0004897344624623656,
          0.0004796877910848707,
          0.0004694646631833166,
          0.0004640885454136878,
          0.00046099323662929237,
          0.0004561059467960149,
          0.0004498929192777723,
          0.00044594451901502907,
          0.0004443148791324347,
          0.0004251051286701113,
          0.0004220497503411025,
          0.00042129747453145683,
          0.0004164517158642411,
          0.00039703879156149924,
          0.00039017258677631617,
          0.00038491463055834174,
          0.00038249700446613133,
          0.00038098261575214565,
          0.0003732025797944516,
          0.00037305240402929485,
          0.0003706497373059392,
          0.0003656460321508348,
          0.00036460612318478525,
          0.00036271908902563155,
          0.0003560841432772577,
          0.0003395990061108023,
          0.0003344581346027553,
          0.00033256254391744733,
          0.00032994759385474026,
          0.0003256622003391385,
          0.00031769947963766754,
          0.000316470890538767,
          0.00031120431958697736,
          0.0003104552743025124,
          0.0003098792803939432,
          0.0003000099095515907,
          0.0002939543919637799,
          0.0002935201919171959,
          0.0002883265551645309,
          0.0002761168871074915,
          0.0002753254375420511,
          0.0002667632361408323,
          0.00026572353090159595,
          0.0002623516193125397,
          0.0002618640719447285,
          0.00025884341448545456,
          0.00025771046057343483,
          0.0002498527173884213,
          0.00024581485195085406,
          0.00024504726752638817,
          0.00024289029533974826,
          0.0002417197683826089,
          0.00023488231818191707,
          0.00023387080000247806,
          0.00023019892978481948,
          0.0002226242795586586,
          0.00021009505144320428,
          0.00021003141591791064,
          0.00020473181211855263,
          0.00020115314691793174,
          0.00019550180877558887,
          0.00019515758322086185,
          0.000192114501260221,
          0.00018740793166216463,
          0.00018723828543443233,
          0.00018627705867402256,
          0.00018580259347800165,
          0.00018139106396120042,
          0.0001811559486668557,
          0.00017255800776183605,
          0.00017037885845638812,
          0.00016730817151255906,
          0.00016582959506195039,
          0.00016574366600252688,
          0.0001656954555073753,
          0.0001626629673410207,
          0.00016040948685258627,
          0.0001591519539942965,
          0.00014886252756696194,
          0.0001469465350965038,
          0.0001456916070310399,
          0.00013831228716298938,
          0.00013659011165145785,
          0.0001297471026191488,
          0.00012671243166550994,
          0.00012433843221515417,
          0.00012164549116278067,
          0.0001113140388042666,
          0.00010892718273680657,
          0.00010820356692420319,
          0.00010518683848204091,
          0.00010459945042384788,
          0.00010441882477607578,
          0.00010354861296946183,
          0.00010350342199672014,
          0.00010341143934056163,
          0.00009806484740693122,
          0.00009670048166299239,
          0.00008949702169047669,
          0.0000882273816387169,
          0.00008785395766608417,
          0.00008529644401278347,
          0.00008421229722443968,
          0.00008238125883508474,
          0.00008143027662299573,
          0.00007983529940247536,
          0.00007788890798110515,
          0.00007571256719529629,
          0.00007347797509282827,
          0.00007345771882683039,
          0.00007270591595442966,
          0.00007061043288558722,
          0.00006959801976336166,
          0.00006899013533256948,
          0.00006802908319514245,
          0.00006538554589496925,
          0.0000651451846351847,
          0.0000647847555228509,
          0.00006410390051314607,
          0.00006202958320500329,
          0.00006052003300283104,
          0.00006006855983287096,
          0.00005872422116226517,
          0.0000567674869671464,
          0.00005539616904570721,
          0.000054585692851105705,
          0.00005286354644340463,
          0.00005281504854792729,
          0.0000503120718349237,
          0.00004704698221758008,
          0.00004681772043113597,
          0.000045385306293610483,
          0.00004112718306714669,
          0.000040165796235669404,
          0.00003986780939158052,
          0.00003965617361245677,
          0.00003770704279304482,
          0.00003725202623172663,
          0.0000370629204553552,
          0.000035852575820172206,
          0.00003459838262642734,
          0.00003382917202543467,
          0.000033035346859833226,
          0.00003179545092280023,
          0.000030989172955742106,
          0.00003090839891228825,
          0.00003026712693099398,
          0.00002957336255349219,
          0.000028433563784346916,
          0.000028155758627690375,
          0.000026650845029507764,
          0.0000253879334195517,
          0.00002530498750275001,
          0.000023478438379243016,
          0.000023456675990018994,
          0.000023131820853450336,
          0.00002295860758749768,
          0.000022846274077892303,
          0.00002279137697769329,
          0.000022495285520562902,
          0.000022446485672844574,
          0.000020859419237240218,
          0.00002015136124100536,
          0.000019242908820160665,
          0.000019040897313971072,
          0.000018812652342603542,
          0.000016856824004207738,
          0.000016728443370084278,
          0.000016716458048904315,
          0.0000160312501975568,
          0.00001521945796412183,
          0.000015033301679068245,
          0.000014896170796419028,
          0.000014844715224171523,
          0.00001467704805691028,
          0.000014032976650923956,
          0.000013781835150439292,
          0.000013359060176298954,
          0.000013080599273962434,
          0.000011913673915842082,
          0.00001169672395917587,
          0.000011291752343822736,
          0.000010562244824541267,
          0.00001028694532578811,
          0.000010191803085035644,
          0.000009974692147807218,
          0.000009485840564593673,
          0.00000875295609148452,
          0.000008475932190776803,
          0.000007674230801058002,
          0.0000073320134106324986,
          0.0000071831200330052525,
          0.000007026065759418998,
          0.000007024362730589928,
          0.000006884622962388676,
          0.0000065777239797171205,
          0.000006489119641628349,
          0.00000619080083197332,
          0.000005993394097458804,
          0.000005222212621447397,
          0.000003824406121566426,
          0.000003510218220981187,
          0.000003277588803030085,
          0.0000032281313906423748,
          0.0000030942155717639253,
          0.0000030299559057311853,
          0.0000030007729492353974,
          0.000002773538199107861,
          0.0000024177941213565646,
          0.00000235235211221152,
          0.000002174494511564262,
          0.0000018862740489566932,
          0.000001855365781011642,
          0.000001799305209715385,
          0.0000017824602309701731,
          0.0000016592423435213277,
          0.000001590420538377657,
          0.0000014443761529037147,
          0.0000014127494978311006,
          0.0000013656565442943247,
          0.0000013543441355068353,
          0.0000013425470797301386,
          9.211924520968751e-7,
          7.42960139632487e-7,
          7.013620688667288e-7,
          6.921312660779222e-7,
          5.703184910998971e-7,
          4.42807760236974e-7,
          3.343460548421717e-7,
          3.3088508644141257e-7,
          1.802095113134783e-7,
          1.431257743433889e-7,
          1.0188590238158213e-7,
          8.956408947824457e-8,
          0,
          0,
          0,
          0,
          0,
          0,
          0,
          0,
          0,
          0,
          0,
          0,
          0,
          0,
          0,
          0,
          0,
          0,
          0,
          0,
          0,
          0,
          0,
          0,
          0,
          0,
          0,
          0,
          0,
          0,
          0,
          0,
          0,
          0,
          0,
          0,
          0,
          0,
          0,
          0,
          0,
          0,
          0,
          0,
          0,
          0,
          0,
          0,
          0,
          0,
          0,
          0,
          0,
          0,
          0,
          0,
          0,
          0,
          0,
          0,
          0,
          0,
          0,
          0,
          0,
          0,
          0,
          0,
          0,
          0,
          0,
          0,
          0,
          0,
          0,
          0,
          0,
          0,
          0,
          0,
          0,
          0,
          0,
          0,
          0,
          0
         ],
         "textposition": "inside",
         "type": "bar",
         "x": [
          "OpSysPersonal use_Cygwin",
          "OfficeStackSyncHaveWorkedWith_Symphony",
          "OpSysPersonal use_Red Hat",
          "DatabaseHaveWorkedWith_Couch DB",
          "OfficeStackSyncHaveWorkedWith_Rocketchat",
          "OpSysProfessional use_iOS",
          "OfficeStackSyncHaveWorkedWith_Wire",
          "OfficeStackSyncHaveWorkedWith_Mattermost",
          "LogConvertedCompYearly",
          "OpSysProfessional use_Solaris",
          "EdLevel",
          "DevType",
          "LanguageWantToWorkWith_PowerShell",
          "OfficeStackAsyncHaveWorkedWith_Monday.com",
          "Country",
          "CodingActivities_School or academic work",
          "OfficeStackSyncWantToWorkWith_Unify Circuit",
          "Age",
          "NEWCollabToolsWantToWorkWith_IPython",
          "OfficeStackSyncWantToWorkWith_Coolfire Core",
          "NEWCollabToolsAdmired_Spacemacs",
          "DatabaseHaveWorkedWith_Cloud Firestore",
          "LanguageHaveWorkedWith_Dart",
          "OfficeStackSyncHaveWorkedWith_Microsoft Teams",
          "LearnCode_Colleague",
          "DatabaseHaveWorkedWith_Firebase Realtime Database",
          "Employment_Student, part-time",
          "SOVisitFreq",
          "NEWCollabToolsWantToWorkWith_PyCharm",
          "DatabaseHaveWorkedWith_MySQL",
          "OpSysPersonal use_Arch",
          "LearnCode_Books / Physical media",
          "LanguageAdmired_Zig",
          "LanguageAdmired_F#",
          "LanguageWantToWorkWith_Zig",
          "LanguageHaveWorkedWith_Kotlin",
          "NEWCollabToolsWantToWorkWith_Android Studio",
          "OfficeStackAsyncHaveWorkedWith_Notion",
          "LanguageAdmired_Objective-C",
          "OfficeStackSyncWantToWorkWith_Slack",
          "LanguageWantToWorkWith_Python",
          "NEWCollabToolsAdmired_Visual Studio Code",
          "LanguageHaveWorkedWith_Java",
          "LanguageHaveWorkedWith_OCaml",
          "CodingActivities_Freelance/contract work",
          "OpSysProfessional use_Red Hat",
          "OfficeStackSyncHaveWorkedWith_Discord",
          "OfficeStackSyncHaveWorkedWith_Skype",
          "LanguageWantToWorkWith_Scala",
          "LanguageHaveWorkedWith_Erlang",
          "LanguageAdmired_Go",
          "DatabaseHaveWorkedWith_DuckDB",
          "OfficeStackAsyncHaveWorkedWith_Obsidian",
          "OpSysPersonal use_MacOS",
          "NEWCollabToolsWantToWorkWith_Notepad++",
          "LanguageHaveWorkedWith_Objective-C",
          "OpSysProfessional use_MacOS",
          "LanguageHaveWorkedWith_Lua",
          "RemoteWork",
          "LanguageHaveWorkedWith_Apex",
          "OfficeStackSyncHaveWorkedWith_Jitsi",
          "LanguageHaveWorkedWith_SQL",
          "OrgSize",
          "NEWCollabToolsAdmired_Emacs",
          "NEWCollabToolsHaveWorkedWith_Helix",
          "PurchaseInfluence",
          "LanguageWantToWorkWith_Kotlin",
          "NEWCollabToolsHaveWorkedWith_Xcode",
          "LanguageAdmired_Assembly",
          "NEWCollabToolsAdmired_BBEdit",
          "OpSysProfessional use_Cygwin",
          "OfficeStackSyncHaveWorkedWith_Slack",
          "DatabaseHaveWorkedWith_EventStoreDB",
          "CodingActivities_I don’t code outside of work",
          "LanguageHaveWorkedWith_Ada",
          "DatabaseHaveWorkedWith_MongoDB",
          "OfficeStackSyncWantToWorkWith_Microsoft Teams",
          "NEWCollabToolsWantToWorkWith_Visual Studio Code",
          "LearnCode_Online Courses or Certification",
          "NEWCollabToolsHaveWorkedWith_Visual Studio Code",
          "DatabaseHaveWorkedWith_Redis",
          "LanguageAdmired_Bash/Shell (all shells)",
          "NEWCollabToolsHaveWorkedWith_WebStorm",
          "OfficeStackAsyncHaveWorkedWith_Airtable",
          "NEWCollabToolsHaveWorkedWith_Spyder",
          "LanguageWantToWorkWith_C",
          "OpSysProfessional use_Fedora",
          "OfficeStackSyncWantToWorkWith_Telegram",
          "YearsCode",
          "SOComm",
          "NEWCollabToolsAdmired_Visual Studio",
          "NEWCollabToolsWantToWorkWith_Helix",
          "OfficeStackSyncHaveWorkedWith_Whatsapp",
          "LanguageAdmired_R",
          "OfficeStackAsyncHaveWorkedWith_Confluence",
          "LanguageWantToWorkWith_Swift",
          "OfficeStackAsyncHaveWorkedWith_Markdown File",
          "YearsCodePro",
          "NEWSOSites_Overflow API",
          "NEWCollabToolsAdmired_IPython",
          "NEWSOSites_Stack Overflow",
          "OpSysPersonal use_iOS",
          "LanguageWantToWorkWith_Go",
          "CodingActivities_Hobby",
          "OfficeStackSyncWantToWorkWith_Zoom",
          "LanguageHaveWorkedWith_Bash/Shell (all shells)",
          "LanguageHaveWorkedWith_PHP",
          "OfficeStackSyncWantToWorkWith_Discord",
          "LanguageWantToWorkWith_Bash/Shell (all shells)",
          "DatabaseHaveWorkedWith_Microsoft SQL Server",
          "LanguageHaveWorkedWith_Ruby",
          "OpSysProfessional use_Windows",
          "OfficeStackSyncWantToWorkWith_IRC",
          "LanguageWantToWorkWith_OCaml",
          "LanguageHaveWorkedWith_MicroPython",
          "OfficeStackSyncWantToWorkWith_Jitsi",
          "AISelect",
          "SOHow_Finding reliable guidance from community-vetted answers",
          "DatabaseHaveWorkedWith_Dynamodb",
          "NEWCollabToolsWantToWorkWith_Visual Studio",
          "NEWCollabToolsWantToWorkWith_IntelliJ IDEA",
          "LanguageAdmired_Swift",
          "LanguageHaveWorkedWith_Fortran",
          "LanguageWantToWorkWith_Objective-C",
          "OfficeStackSyncHaveWorkedWith_Google Chat",
          "NEWCollabToolsHaveWorkedWith_Vim",
          "NEWSOSites_Stack Overflow for Teams (private knowledge sharing & collaboration platform for companies)",
          "NEWCollabToolsWantToWorkWith_WebStorm",
          "LanguageHaveWorkedWith_Rust",
          "LanguageAdmired_Python",
          "NEWCollabToolsWantToWorkWith_Neovim",
          "OfficeStackAsyncHaveWorkedWith_Basecamp",
          "LanguageHaveWorkedWith_C",
          "OfficeStackAsyncHaveWorkedWith_GitHub Discussions",
          "NEWCollabToolsHaveWorkedWith_CLion",
          "LanguageHaveWorkedWith_Solidity",
          "OpSysPersonal use_ChromeOS",
          "OfficeStackSyncWantToWorkWith_Cisco Webex Teams",
          "OpSysPersonal use_Android",
          "DatabaseHaveWorkedWith_Presto",
          "OfficeStackSyncHaveWorkedWith_Zulip",
          "NEWCollabToolsAdmired_Helix",
          "LanguageWantToWorkWith_Java",
          "LearnCode_On the job training",
          "OfficeStackSyncHaveWorkedWith_Cisco Webex Teams",
          "LanguageWantToWorkWith_SQL",
          "OpSysProfessional use_Windows Subsystem for Linux (WSL)",
          "LanguageAdmired_HTML/CSS",
          "LanguageHaveWorkedWith_HTML/CSS",
          "NEWCollabToolsAdmired_Xcode",
          "OfficeStackSyncWantToWorkWith_Signal",
          "NEWCollabToolsHaveWorkedWith_Spacemacs",
          "NEWCollabToolsHaveWorkedWith_Emacs",
          "LanguageAdmired_C",
          "OfficeStackSyncHaveWorkedWith_Google Meet",
          "OpSysPersonal use_Windows",
          "NEWCollabToolsHaveWorkedWith_Jupyter Notebook/JupyterLab",
          "DatabaseHaveWorkedWith_Snowflake",
          "LanguageHaveWorkedWith_TypeScript",
          "NEWCollabToolsAdmired_Android Studio",
          "DatabaseHaveWorkedWith_Databricks SQL",
          "NEWCollabToolsAdmired_CLion",
          "NEWCollabToolsWantToWorkWith_Xcode",
          "LanguageWantToWorkWith_Rust",
          "DatabaseHaveWorkedWith_Elasticsearch",
          "LanguageWantToWorkWith_Erlang",
          "NEWSOSites_Stack Exchange",
          "LanguageHaveWorkedWith_C#",
          "LanguageAdmired_Java",
          "OfficeStackSyncHaveWorkedWith_Zoom",
          "LanguageHaveWorkedWith_Delphi",
          "LanguageWantToWorkWith_TypeScript",
          "LanguageWantToWorkWith_Apex",
          "NEWCollabToolsWantToWorkWith_Vim",
          "OfficeStackAsyncHaveWorkedWith_YouTrack",
          "NEWCollabToolsWantToWorkWith_Rider",
          "NEWCollabToolsHaveWorkedWith_PhpStorm",
          "OpSysPersonal use_Ubuntu",
          "LearnCode_School (i.e., University, College, etc)",
          "Employment_Independent contractor, freelancer, or self-employed",
          "LanguageAdmired_TypeScript",
          "LanguageHaveWorkedWith_Scala",
          "SOHow_Learning new-to-me technology/techniques",
          "NEWCollabToolsHaveWorkedWith_Sublime Text",
          "OpSysPersonal use_Windows Subsystem for Linux (WSL)",
          "LanguageHaveWorkedWith_Go",
          "OpSysProfessional use_AIX",
          "Employment_Employed, full-time",
          "NEWCollabToolsHaveWorkedWith_IPython",
          "OfficeStackAsyncHaveWorkedWith_Jira",
          "LanguageAdmired_JavaScript",
          "CodingActivities_Bootstrapping a business",
          "OpSysProfessional use_Arch",
          "NEWCollabToolsAdmired_Neovim",
          "OfficeStackSyncWantToWorkWith_Zulip",
          "OfficeStackAsyncHaveWorkedWith_Wikis",
          "LanguageWantToWorkWith_Ruby",
          "LanguageWantToWorkWith_C++",
          "NEWCollabToolsHaveWorkedWith_Visual Studio",
          "SOHow_Engage with community by commenting on questions and answers or voting on questions and answers",
          "CodingActivities_Professional development or self-paced learning from online courses",
          "DatabaseHaveWorkedWith_Solr",
          "NEWCollabToolsAdmired_WebStorm",
          "NEWCollabToolsHaveWorkedWith_Rider",
          "DatabaseHaveWorkedWith_Oracle",
          "DatabaseHaveWorkedWith_Cosmos DB",
          "NEWCollabToolsAdmired_Vim",
          "DatabaseHaveWorkedWith_SQLite",
          "DatabaseHaveWorkedWith_MariaDB",
          "NEWCollabToolsHaveWorkedWith_DataGrip",
          "NEWCollabToolsAdmired_Qt Creator",
          "OfficeStackAsyncHaveWorkedWith_Miro",
          "OpSysPersonal use_Solaris",
          "MainBranch",
          "NEWCollabToolsHaveWorkedWith_Android Studio",
          "OfficeStackSyncWantToWorkWith_Ringcentral",
          "OpSysProfessional use_Ubuntu",
          "OfficeStackSyncHaveWorkedWith_Telegram",
          "LanguageAdmired_SQL",
          "LanguageWantToWorkWith_HTML/CSS",
          "LanguageAdmired_C++",
          "NEWCollabToolsHaveWorkedWith_Notepad++",
          "OfficeStackSyncWantToWorkWith_Google Meet",
          "DatabaseHaveWorkedWith_Cockroachdb",
          "LanguageHaveWorkedWith_Cobol",
          "LanguageWantToWorkWith_JavaScript",
          "NEWCollabToolsWantToWorkWith_Goland",
          "NEWCollabToolsHaveWorkedWith_VSCodium",
          "NEWCollabToolsHaveWorkedWith_Qt Creator",
          "DatabaseHaveWorkedWith_BigQuery",
          "SOHow_Learning new-to-everyone technology/techniques",
          "LanguageHaveWorkedWith_Julia",
          "LanguageAdmired_Dart",
          "OpSysPersonal use_Debian",
          "LanguageHaveWorkedWith_Visual Basic (.Net)",
          "LanguageWantToWorkWith_C#",
          "NEWCollabToolsWantToWorkWith_Emacs",
          "OfficeStackSyncWantToWorkWith_Whatsapp",
          "LanguageHaveWorkedWith_JavaScript",
          "LanguageWantToWorkWith_Visual Basic (.Net)",
          "NEWCollabToolsAdmired_Jupyter Notebook/JupyterLab",
          "OfficeStackAsyncHaveWorkedWith_Azure Devops",
          "OfficeStackSyncHaveWorkedWith_Signal",
          "LanguageWantToWorkWith_Clojure",
          "DatabaseHaveWorkedWith_Microsoft Access",
          "NEWCollabToolsAdmired_IntelliJ IDEA",
          "OfficeStackAsyncHaveWorkedWith_Lucid",
          "OfficeStackSyncWantToWorkWith_Symphony",
          "LanguageWantToWorkWith_Cobol",
          "OfficeStackSyncWantToWorkWith_Wickr",
          "NEWCollabToolsAdmired_Goland",
          "LanguageHaveWorkedWith_Lisp",
          "OpSysProfessional use_Debian",
          "LanguageHaveWorkedWith_C++",
          "NEWCollabToolsHaveWorkedWith_PyCharm",
          "NEWCollabToolsWantToWorkWith_Spacemacs",
          "NEWCollabToolsAdmired_Rider",
          "DatabaseHaveWorkedWith_Clickhouse",
          "NEWCollabToolsHaveWorkedWith_Neovim",
          "LearnCode_Friend or family member",
          "OfficeStackAsyncHaveWorkedWith_Smartsheet",
          "LanguageAdmired_Elixir",
          "LanguageAdmired_C#",
          "OfficeStackAsyncHaveWorkedWith_Clickup",
          "OfficeStackAsyncHaveWorkedWith_Trello",
          "OfficeStackSyncHaveWorkedWith_Unify Circuit",
          "NEWCollabToolsWantToWorkWith_BBEdit",
          "LanguageHaveWorkedWith_Python",
          "DatabaseHaveWorkedWith_H2",
          "OfficeStackSyncHaveWorkedWith_Wickr",
          "CodingActivities_Contribute to open-source projects",
          "NEWCollabToolsWantToWorkWith_VSCodium",
          "OpSysProfessional use_Haiku",
          "LanguageAdmired_Scala",
          "NEWCollabToolsWantToWorkWith_DataGrip",
          "NEWCollabToolsHaveWorkedWith_IntelliJ IDEA",
          "NEWCollabToolsWantToWorkWith_Jupyter Notebook/JupyterLab",
          "OpSysProfessional use_Android",
          "OfficeStackSyncHaveWorkedWith_IRC",
          "LanguageHaveWorkedWith_Haskell",
          "OfficeStackSyncWantToWorkWith_Skype",
          "SOHow_Quickly finding code solutions",
          "NEWCollabToolsHaveWorkedWith_Eclipse",
          "Employment_Student, full-time",
          "LanguageWantToWorkWith_PHP",
          "DatabaseHaveWorkedWith_PostgreSQL",
          "OpSysProfessional use_iPadOS",
          "OfficeStackAsyncHaveWorkedWith_Doxygen",
          "NEWCollabToolsWantToWorkWith_CLion",
          "LanguageWantToWorkWith_F#",
          "LanguageHaveWorkedWith_Groovy",
          "DatabaseHaveWorkedWith_Cassandra",
          "LanguageHaveWorkedWith_GDScript",
          "OfficeStackSyncWantToWorkWith_Google Chat",
          "LearnCode_Coding Bootcamp",
          "OfficeStackAsyncHaveWorkedWith_Asana",
          "LanguageHaveWorkedWith_Clojure",
          "LanguageAdmired_OCaml",
          "LanguageWantToWorkWith_Crystal",
          "OfficeStackAsyncHaveWorkedWith_Linear",
          "LanguageAdmired_Julia",
          "LanguageAdmired_Lisp",
          "NEWCollabToolsWantToWorkWith_RubyMine",
          "NEWCollabToolsAdmired_DataGrip",
          "LanguageWantToWorkWith_Perl",
          "LanguageAdmired_GDScript",
          "LanguageWantToWorkWith_GDScript",
          "LanguageWantToWorkWith_Assembly",
          "OfficeStackSyncWantToWorkWith_Wire",
          "NEWCollabToolsWantToWorkWith_Qt Creator",
          "LanguageWantToWorkWith_Elixir",
          "OfficeStackAsyncHaveWorkedWith_Stack Overflow for Teams",
          "NEWCollabToolsAdmired_RubyMine",
          "LanguageHaveWorkedWith_Elixir",
          "LanguageWantToWorkWith_Prolog",
          "DatabaseHaveWorkedWith_RavenDB",
          "LanguageWantToWorkWith_Zephyr",
          "NEWSOSites_Stack Overflow Blog or Podcast",
          "NEWCollabToolsHaveWorkedWith_Goland",
          "NEWCollabToolsAdmired_VSCodium",
          "LanguageWantToWorkWith_Ada",
          "LanguageWantToWorkWith_R",
          "NEWCollabToolsWantToWorkWith_Rad Studio (Delphi, C++ Builder)",
          "LanguageHaveWorkedWith_Perl",
          "LanguageWantToWorkWith_Fortran",
          "NEWCollabToolsWantToWorkWith_Kate",
          "LanguageAdmired_Kotlin",
          "LanguageAdmired_Rust",
          "SOHow_Showcase expertise with code solutions",
          "LanguageWantToWorkWith_MicroPython",
          "LanguageAdmired_Erlang",
          "OfficeStackAsyncHaveWorkedWith_Shortcut",
          "LanguageAdmired_Ada",
          "LanguageAdmired_Lua",
          "LanguageHaveWorkedWith_Swift",
          "NEWCollabToolsAdmired_Sublime Text",
          "LanguageWantToWorkWith_Lua",
          "Employment_Not employed, and not looking for work",
          "LanguageHaveWorkedWith_Crystal",
          "OfficeStackAsyncHaveWorkedWith_Microsoft Lists",
          "LanguageWantToWorkWith_MATLAB",
          "LanguageWantToWorkWith_Dart",
          "LanguageWantToWorkWith_Lisp",
          "DatabaseHaveWorkedWith_Supabase",
          "NEWCollabToolsAdmired_PyCharm",
          "NEWCollabToolsHaveWorkedWith_BBEdit",
          "NEWCollabToolsAdmired_Code::Blocks",
          "LanguageHaveWorkedWith_R",
          "NEWCollabToolsAdmired_Notepad++",
          "LanguageWantToWorkWith_Solidity",
          "LanguageHaveWorkedWith_Assembly",
          "DatabaseHaveWorkedWith_IBM DB2",
          "DatabaseHaveWorkedWith_Firebird",
          "LanguageHaveWorkedWith_Prolog",
          "Employment_Retired",
          "DatabaseHaveWorkedWith_InfluxDB",
          "DatabaseHaveWorkedWith_Neo4J",
          "OfficeStackSyncHaveWorkedWith_Ringcentral",
          "NEWCollabToolsHaveWorkedWith_RubyMine",
          "DatabaseHaveWorkedWith_Couchbase",
          "OfficeStackSyncWantToWorkWith_Matrix",
          "NEWSOSites_I have never visited Stack Overflow or the Stack Exchange network",
          "LanguageHaveWorkedWith_F#",
          "NEWCollabToolsHaveWorkedWith_Code::Blocks",
          "LanguageHaveWorkedWith_MATLAB",
          "Employment_Employed, part-time",
          "NEWCollabToolsHaveWorkedWith_Fleet",
          "OfficeStackSyncHaveWorkedWith_Coolfire Core",
          "LanguageHaveWorkedWith_PowerShell",
          "OfficeStackSyncWantToWorkWith_Rocketchat",
          "Employment_Not employed, but looking for work",
          "LanguageHaveWorkedWith_Nim",
          "NEWCollabToolsHaveWorkedWith_RStudio",
          "LanguageHaveWorkedWith_VBA",
          "NEWCollabToolsHaveWorkedWith_Rad Studio (Delphi, C++ Builder)",
          "OfficeStackSyncWantToWorkWith_Mattermost",
          "DatabaseHaveWorkedWith_TiDB",
          "LanguageHaveWorkedWith_Zig",
          "LanguageHaveWorkedWith_Zephyr",
          "OfficeStackSyncHaveWorkedWith_Matrix",
          "NEWCollabToolsHaveWorkedWith_Kate",
          "NEWCollabToolsWantToWorkWith_Netbeans",
          "NEWCollabToolsHaveWorkedWith_Netbeans",
          "LanguageAdmired_Haskell",
          "LanguageAdmired_Clojure",
          "OpSysPersonal use_BSD",
          "NEWCollabToolsAdmired_Geany",
          "LanguageAdmired_Solidity",
          "NEWCollabToolsAdmired_Netbeans",
          "NEWCollabToolsAdmired_PhpStorm",
          "LanguageAdmired_Perl",
          "LanguageAdmired_Delphi",
          "NEWCollabToolsAdmired_Rad Studio (Delphi, C++ Builder)",
          "LanguageAdmired_Ruby",
          "LanguageAdmired_Crystal",
          "NEWCollabToolsWantToWorkWith_Code::Blocks",
          "OpSysPersonal use_Haiku",
          "LanguageAdmired_Prolog",
          "NEWCollabToolsAdmired_RStudio",
          "NEWCollabToolsAdmired_Kate",
          "NEWCollabToolsAdmired_Spyder",
          "NEWCollabToolsAdmired_Fleet",
          "LanguageAdmired_MicroPython",
          "LanguageAdmired_Nim",
          "LanguageAdmired_Groovy",
          "NEWCollabToolsAdmired_Eclipse",
          "NEWCollabToolsWantToWorkWith_PhpStorm",
          "NEWCollabToolsWantToWorkWith_Geany",
          "LanguageAdmired_PHP",
          "LanguageAdmired_Zephyr",
          "LanguageAdmired_Fortran",
          "LanguageWantToWorkWith_Nim",
          "LanguageWantToWorkWith_Delphi",
          "OfficeStackAsyncHaveWorkedWith_Redmine",
          "LanguageWantToWorkWith_Haskell",
          "NEWCollabToolsHaveWorkedWith_Geany",
          "LanguageAdmired_Cobol",
          "OfficeStackAsyncHaveWorkedWith_Microsoft Planner",
          "NEWCollabToolsWantToWorkWith_Eclipse",
          "LanguageAdmired_MATLAB",
          "LanguageAdmired_Apex",
          "LanguageAdmired_PowerShell",
          "LanguageWantToWorkWith_Groovy",
          "OpSysProfessional use_ChromeOS",
          "LanguageAdmired_Visual Basic (.Net)",
          "LanguageAdmired_VBA",
          "NEWCollabToolsWantToWorkWith_Fleet",
          "NEWCollabToolsWantToWorkWith_Sublime Text",
          "NEWCollabToolsWantToWorkWith_Spyder",
          "LanguageWantToWorkWith_VBA",
          "LanguageWantToWorkWith_Julia",
          "OpSysProfessional use_BSD",
          "NEWCollabToolsWantToWorkWith_RStudio",
          "OpSysPersonal use_Fedora",
          "OpSysPersonal use_AIX",
          "OpSysPersonal use_iPadOS",
          "DatabaseHaveWorkedWith_Datomic"
         ],
         "y": [
          0.33811572194099426,
          0.08771666139364243,
          0.060543354600667953,
          0.053992461413145065,
          0.050139281898736954,
          0.04570389539003372,
          0.031028833240270615,
          0.028887277469038963,
          0.02848644368350506,
          0.021518727764487267,
          0.012660358101129532,
          0.012242849916219711,
          0.010177159681916237,
          0.009669756516814232,
          0.008936108089983463,
          0.00823733676224947,
          0.007190832868218422,
          0.006950813811272383,
          0.005825900472700596,
          0.00562534062191844,
          0.005422493442893028,
          0.005252729170024395,
          0.004447152838110924,
          0.004208149388432503,
          0.0041303737089037895,
          0.003942942246794701,
          0.003810109803453088,
          0.0037130091805011034,
          0.003426190232858062,
          0.002922061365097761,
          0.002876118989661336,
          0.002803713781759143,
          0.0027544277254492044,
          0.002746396232396364,
          0.002693537389859557,
          0.002450411906465888,
          0.002423394238576293,
          0.0023613052908331156,
          0.0021075664553791285,
          0.0020847104024142027,
          0.002000869018957019,
          0.001973565435037017,
          0.0018465400207787752,
          0.001777765341103077,
          0.001674991799518466,
          0.0016375776613131166,
          0.0015977151924744248,
          0.0015654901508241892,
          0.0014906410360708833,
          0.001348950550891459,
          0.0013339573051780462,
          0.0013168391305953264,
          0.0012712301686406136,
          0.0012199673801660538,
          0.0012033090461045504,
          0.0011807550908997655,
          0.0011710477992892265,
          0.0011518774554133415,
          0.00112557178363204,
          0.0011187385534867644,
          0.00110552366822958,
          0.0011047953739762306,
          0.0011021433165296912,
          0.0010465513914823532,
          0.0010053541045635939,
          0.0009999240282922983,
          0.0009937789291143417,
          0.0009883271995931864,
          0.0009477899293415248,
          0.0009164948714897037,
          0.0009107395308092237,
          0.0009034581598825753,
          0.0008683426422066987,
          0.0008625771733932197,
          0.0008603142923675478,
          0.0008427706779912114,
          0.000839538755826652,
          0.0008287465898320079,
          0.0008268263190984726,
          0.0007993969484232366,
          0.0007851928239688277,
          0.000763740565162152,
          0.0007433981518261135,
          0.0007278784178197384,
          0.0007262083818204701,
          0.0007244114531204104,
          0.0007199485553428531,
          0.0006886733463034034,
          0.0006864313036203384,
          0.0006804435979574919,
          0.00067356281215325,
          0.0006673900061286986,
          0.0006593499565497041,
          0.0006579639157280326,
          0.000656451506074518,
          0.0006531447870656848,
          0.0006307594012469053,
          0.000630119233392179,
          0.000623952888417989,
          0.0006145504885353148,
          0.0006085963686928153,
          0.0005893072229810059,
          0.0005834319163113832,
          0.0005786435212939978,
          0.0005785604007542133,
          0.0005653123371303082,
          0.0005533896037377417,
          0.0005470179603435099,
          0.0005413974868133664,
          0.0005208101938478649,
          0.0005196490092203021,
          0.0005151942023076117,
          0.0005116495885886252,
          0.0005025407299399376,
          0.0005011840257793665,
          0.0004966469132341444,
          0.0004915635217912495,
          0.0004897344624623656,
          0.0004796877910848707,
          0.0004694646631833166,
          0.0004640885454136878,
          0.00046099323662929237,
          0.0004561059467960149,
          0.0004498929192777723,
          0.00044594451901502907,
          0.0004443148791324347,
          0.0004251051286701113,
          0.0004220497503411025,
          0.00042129747453145683,
          0.0004164517158642411,
          0.00039703879156149924,
          0.00039017258677631617,
          0.00038491463055834174,
          0.00038249700446613133,
          0.00038098261575214565,
          0.0003732025797944516,
          0.00037305240402929485,
          0.0003706497373059392,
          0.0003656460321508348,
          0.00036460612318478525,
          0.00036271908902563155,
          0.0003560841432772577,
          0.0003395990061108023,
          0.0003344581346027553,
          0.00033256254391744733,
          0.00032994759385474026,
          0.0003256622003391385,
          0.00031769947963766754,
          0.000316470890538767,
          0.00031120431958697736,
          0.0003104552743025124,
          0.0003098792803939432,
          0.0003000099095515907,
          0.0002939543919637799,
          0.0002935201919171959,
          0.0002883265551645309,
          0.0002761168871074915,
          0.0002753254375420511,
          0.0002667632361408323,
          0.00026572353090159595,
          0.0002623516193125397,
          0.0002618640719447285,
          0.00025884341448545456,
          0.00025771046057343483,
          0.0002498527173884213,
          0.00024581485195085406,
          0.00024504726752638817,
          0.00024289029533974826,
          0.0002417197683826089,
          0.00023488231818191707,
          0.00023387080000247806,
          0.00023019892978481948,
          0.0002226242795586586,
          0.00021009505144320428,
          0.00021003141591791064,
          0.00020473181211855263,
          0.00020115314691793174,
          0.00019550180877558887,
          0.00019515758322086185,
          0.000192114501260221,
          0.00018740793166216463,
          0.00018723828543443233,
          0.00018627705867402256,
          0.00018580259347800165,
          0.00018139106396120042,
          0.0001811559486668557,
          0.00017255800776183605,
          0.00017037885845638812,
          0.00016730817151255906,
          0.00016582959506195039,
          0.00016574366600252688,
          0.0001656954555073753,
          0.0001626629673410207,
          0.00016040948685258627,
          0.0001591519539942965,
          0.00014886252756696194,
          0.0001469465350965038,
          0.0001456916070310399,
          0.00013831228716298938,
          0.00013659011165145785,
          0.0001297471026191488,
          0.00012671243166550994,
          0.00012433843221515417,
          0.00012164549116278067,
          0.0001113140388042666,
          0.00010892718273680657,
          0.00010820356692420319,
          0.00010518683848204091,
          0.00010459945042384788,
          0.00010441882477607578,
          0.00010354861296946183,
          0.00010350342199672014,
          0.00010341143934056163,
          0.00009806484740693122,
          0.00009670048166299239,
          0.00008949702169047669,
          0.0000882273816387169,
          0.00008785395766608417,
          0.00008529644401278347,
          0.00008421229722443968,
          0.00008238125883508474,
          0.00008143027662299573,
          0.00007983529940247536,
          0.00007788890798110515,
          0.00007571256719529629,
          0.00007347797509282827,
          0.00007345771882683039,
          0.00007270591595442966,
          0.00007061043288558722,
          0.00006959801976336166,
          0.00006899013533256948,
          0.00006802908319514245,
          0.00006538554589496925,
          0.0000651451846351847,
          0.0000647847555228509,
          0.00006410390051314607,
          0.00006202958320500329,
          0.00006052003300283104,
          0.00006006855983287096,
          0.00005872422116226517,
          0.0000567674869671464,
          0.00005539616904570721,
          0.000054585692851105705,
          0.00005286354644340463,
          0.00005281504854792729,
          0.0000503120718349237,
          0.00004704698221758008,
          0.00004681772043113597,
          0.000045385306293610483,
          0.00004112718306714669,
          0.000040165796235669404,
          0.00003986780939158052,
          0.00003965617361245677,
          0.00003770704279304482,
          0.00003725202623172663,
          0.0000370629204553552,
          0.000035852575820172206,
          0.00003459838262642734,
          0.00003382917202543467,
          0.000033035346859833226,
          0.00003179545092280023,
          0.000030989172955742106,
          0.00003090839891228825,
          0.00003026712693099398,
          0.00002957336255349219,
          0.000028433563784346916,
          0.000028155758627690375,
          0.000026650845029507764,
          0.0000253879334195517,
          0.00002530498750275001,
          0.000023478438379243016,
          0.000023456675990018994,
          0.000023131820853450336,
          0.00002295860758749768,
          0.000022846274077892303,
          0.00002279137697769329,
          0.000022495285520562902,
          0.000022446485672844574,
          0.000020859419237240218,
          0.00002015136124100536,
          0.000019242908820160665,
          0.000019040897313971072,
          0.000018812652342603542,
          0.000016856824004207738,
          0.000016728443370084278,
          0.000016716458048904315,
          0.0000160312501975568,
          0.00001521945796412183,
          0.000015033301679068245,
          0.000014896170796419028,
          0.000014844715224171523,
          0.00001467704805691028,
          0.000014032976650923956,
          0.000013781835150439292,
          0.000013359060176298954,
          0.000013080599273962434,
          0.000011913673915842082,
          0.00001169672395917587,
          0.000011291752343822736,
          0.000010562244824541267,
          0.00001028694532578811,
          0.000010191803085035644,
          0.000009974692147807218,
          0.000009485840564593673,
          0.00000875295609148452,
          0.000008475932190776803,
          0.000007674230801058002,
          0.0000073320134106324986,
          0.0000071831200330052525,
          0.000007026065759418998,
          0.000007024362730589928,
          0.000006884622962388676,
          0.0000065777239797171205,
          0.000006489119641628349,
          0.00000619080083197332,
          0.000005993394097458804,
          0.000005222212621447397,
          0.000003824406121566426,
          0.000003510218220981187,
          0.000003277588803030085,
          0.0000032281313906423748,
          0.0000030942155717639253,
          0.0000030299559057311853,
          0.0000030007729492353974,
          0.000002773538199107861,
          0.0000024177941213565646,
          0.00000235235211221152,
          0.000002174494511564262,
          0.0000018862740489566932,
          0.000001855365781011642,
          0.000001799305209715385,
          0.0000017824602309701731,
          0.0000016592423435213277,
          0.000001590420538377657,
          0.0000014443761529037147,
          0.0000014127494978311006,
          0.0000013656565442943247,
          0.0000013543441355068353,
          0.0000013425470797301386,
          9.211924520968751e-7,
          7.42960139632487e-7,
          7.013620688667288e-7,
          6.921312660779222e-7,
          5.703184910998971e-7,
          4.42807760236974e-7,
          3.343460548421717e-7,
          3.3088508644141257e-7,
          1.802095113134783e-7,
          1.431257743433889e-7,
          1.0188590238158213e-7,
          8.956408947824457e-8,
          0,
          0,
          0,
          0,
          0,
          0,
          0,
          0,
          0,
          0,
          0,
          0,
          0,
          0,
          0,
          0,
          0,
          0,
          0,
          0,
          0,
          0,
          0,
          0,
          0,
          0,
          0,
          0,
          0,
          0,
          0,
          0,
          0,
          0,
          0,
          0,
          0,
          0,
          0,
          0,
          0,
          0,
          0,
          0,
          0,
          0,
          0,
          0,
          0,
          0,
          0,
          0,
          0,
          0,
          0,
          0,
          0,
          0,
          0,
          0,
          0,
          0,
          0,
          0,
          0,
          0,
          0,
          0,
          0,
          0,
          0,
          0,
          0,
          0,
          0,
          0,
          0,
          0,
          0,
          0,
          0,
          0,
          0,
          0,
          0,
          0
         ]
        }
       ],
       "layout": {
        "bargap": 0.2,
        "bargroupgap": 0.1,
        "template": {
         "data": {
          "bar": [
           {
            "error_x": {
             "color": "#2a3f5f"
            },
            "error_y": {
             "color": "#2a3f5f"
            },
            "marker": {
             "line": {
              "color": "#E5ECF6",
              "width": 0.5
             },
             "pattern": {
              "fillmode": "overlay",
              "size": 10,
              "solidity": 0.2
             }
            },
            "type": "bar"
           }
          ],
          "barpolar": [
           {
            "marker": {
             "line": {
              "color": "#E5ECF6",
              "width": 0.5
             },
             "pattern": {
              "fillmode": "overlay",
              "size": 10,
              "solidity": 0.2
             }
            },
            "type": "barpolar"
           }
          ],
          "carpet": [
           {
            "aaxis": {
             "endlinecolor": "#2a3f5f",
             "gridcolor": "white",
             "linecolor": "white",
             "minorgridcolor": "white",
             "startlinecolor": "#2a3f5f"
            },
            "baxis": {
             "endlinecolor": "#2a3f5f",
             "gridcolor": "white",
             "linecolor": "white",
             "minorgridcolor": "white",
             "startlinecolor": "#2a3f5f"
            },
            "type": "carpet"
           }
          ],
          "choropleth": [
           {
            "colorbar": {
             "outlinewidth": 0,
             "ticks": ""
            },
            "type": "choropleth"
           }
          ],
          "contour": [
           {
            "colorbar": {
             "outlinewidth": 0,
             "ticks": ""
            },
            "colorscale": [
             [
              0,
              "#0d0887"
             ],
             [
              0.1111111111111111,
              "#46039f"
             ],
             [
              0.2222222222222222,
              "#7201a8"
             ],
             [
              0.3333333333333333,
              "#9c179e"
             ],
             [
              0.4444444444444444,
              "#bd3786"
             ],
             [
              0.5555555555555556,
              "#d8576b"
             ],
             [
              0.6666666666666666,
              "#ed7953"
             ],
             [
              0.7777777777777778,
              "#fb9f3a"
             ],
             [
              0.8888888888888888,
              "#fdca26"
             ],
             [
              1,
              "#f0f921"
             ]
            ],
            "type": "contour"
           }
          ],
          "contourcarpet": [
           {
            "colorbar": {
             "outlinewidth": 0,
             "ticks": ""
            },
            "type": "contourcarpet"
           }
          ],
          "heatmap": [
           {
            "colorbar": {
             "outlinewidth": 0,
             "ticks": ""
            },
            "colorscale": [
             [
              0,
              "#0d0887"
             ],
             [
              0.1111111111111111,
              "#46039f"
             ],
             [
              0.2222222222222222,
              "#7201a8"
             ],
             [
              0.3333333333333333,
              "#9c179e"
             ],
             [
              0.4444444444444444,
              "#bd3786"
             ],
             [
              0.5555555555555556,
              "#d8576b"
             ],
             [
              0.6666666666666666,
              "#ed7953"
             ],
             [
              0.7777777777777778,
              "#fb9f3a"
             ],
             [
              0.8888888888888888,
              "#fdca26"
             ],
             [
              1,
              "#f0f921"
             ]
            ],
            "type": "heatmap"
           }
          ],
          "heatmapgl": [
           {
            "colorbar": {
             "outlinewidth": 0,
             "ticks": ""
            },
            "colorscale": [
             [
              0,
              "#0d0887"
             ],
             [
              0.1111111111111111,
              "#46039f"
             ],
             [
              0.2222222222222222,
              "#7201a8"
             ],
             [
              0.3333333333333333,
              "#9c179e"
             ],
             [
              0.4444444444444444,
              "#bd3786"
             ],
             [
              0.5555555555555556,
              "#d8576b"
             ],
             [
              0.6666666666666666,
              "#ed7953"
             ],
             [
              0.7777777777777778,
              "#fb9f3a"
             ],
             [
              0.8888888888888888,
              "#fdca26"
             ],
             [
              1,
              "#f0f921"
             ]
            ],
            "type": "heatmapgl"
           }
          ],
          "histogram": [
           {
            "marker": {
             "pattern": {
              "fillmode": "overlay",
              "size": 10,
              "solidity": 0.2
             }
            },
            "type": "histogram"
           }
          ],
          "histogram2d": [
           {
            "colorbar": {
             "outlinewidth": 0,
             "ticks": ""
            },
            "colorscale": [
             [
              0,
              "#0d0887"
             ],
             [
              0.1111111111111111,
              "#46039f"
             ],
             [
              0.2222222222222222,
              "#7201a8"
             ],
             [
              0.3333333333333333,
              "#9c179e"
             ],
             [
              0.4444444444444444,
              "#bd3786"
             ],
             [
              0.5555555555555556,
              "#d8576b"
             ],
             [
              0.6666666666666666,
              "#ed7953"
             ],
             [
              0.7777777777777778,
              "#fb9f3a"
             ],
             [
              0.8888888888888888,
              "#fdca26"
             ],
             [
              1,
              "#f0f921"
             ]
            ],
            "type": "histogram2d"
           }
          ],
          "histogram2dcontour": [
           {
            "colorbar": {
             "outlinewidth": 0,
             "ticks": ""
            },
            "colorscale": [
             [
              0,
              "#0d0887"
             ],
             [
              0.1111111111111111,
              "#46039f"
             ],
             [
              0.2222222222222222,
              "#7201a8"
             ],
             [
              0.3333333333333333,
              "#9c179e"
             ],
             [
              0.4444444444444444,
              "#bd3786"
             ],
             [
              0.5555555555555556,
              "#d8576b"
             ],
             [
              0.6666666666666666,
              "#ed7953"
             ],
             [
              0.7777777777777778,
              "#fb9f3a"
             ],
             [
              0.8888888888888888,
              "#fdca26"
             ],
             [
              1,
              "#f0f921"
             ]
            ],
            "type": "histogram2dcontour"
           }
          ],
          "mesh3d": [
           {
            "colorbar": {
             "outlinewidth": 0,
             "ticks": ""
            },
            "type": "mesh3d"
           }
          ],
          "parcoords": [
           {
            "line": {
             "colorbar": {
              "outlinewidth": 0,
              "ticks": ""
             }
            },
            "type": "parcoords"
           }
          ],
          "pie": [
           {
            "automargin": true,
            "type": "pie"
           }
          ],
          "scatter": [
           {
            "fillpattern": {
             "fillmode": "overlay",
             "size": 10,
             "solidity": 0.2
            },
            "type": "scatter"
           }
          ],
          "scatter3d": [
           {
            "line": {
             "colorbar": {
              "outlinewidth": 0,
              "ticks": ""
             }
            },
            "marker": {
             "colorbar": {
              "outlinewidth": 0,
              "ticks": ""
             }
            },
            "type": "scatter3d"
           }
          ],
          "scattercarpet": [
           {
            "marker": {
             "colorbar": {
              "outlinewidth": 0,
              "ticks": ""
             }
            },
            "type": "scattercarpet"
           }
          ],
          "scattergeo": [
           {
            "marker": {
             "colorbar": {
              "outlinewidth": 0,
              "ticks": ""
             }
            },
            "type": "scattergeo"
           }
          ],
          "scattergl": [
           {
            "marker": {
             "colorbar": {
              "outlinewidth": 0,
              "ticks": ""
             }
            },
            "type": "scattergl"
           }
          ],
          "scattermapbox": [
           {
            "marker": {
             "colorbar": {
              "outlinewidth": 0,
              "ticks": ""
             }
            },
            "type": "scattermapbox"
           }
          ],
          "scatterpolar": [
           {
            "marker": {
             "colorbar": {
              "outlinewidth": 0,
              "ticks": ""
             }
            },
            "type": "scatterpolar"
           }
          ],
          "scatterpolargl": [
           {
            "marker": {
             "colorbar": {
              "outlinewidth": 0,
              "ticks": ""
             }
            },
            "type": "scatterpolargl"
           }
          ],
          "scatterternary": [
           {
            "marker": {
             "colorbar": {
              "outlinewidth": 0,
              "ticks": ""
             }
            },
            "type": "scatterternary"
           }
          ],
          "surface": [
           {
            "colorbar": {
             "outlinewidth": 0,
             "ticks": ""
            },
            "colorscale": [
             [
              0,
              "#0d0887"
             ],
             [
              0.1111111111111111,
              "#46039f"
             ],
             [
              0.2222222222222222,
              "#7201a8"
             ],
             [
              0.3333333333333333,
              "#9c179e"
             ],
             [
              0.4444444444444444,
              "#bd3786"
             ],
             [
              0.5555555555555556,
              "#d8576b"
             ],
             [
              0.6666666666666666,
              "#ed7953"
             ],
             [
              0.7777777777777778,
              "#fb9f3a"
             ],
             [
              0.8888888888888888,
              "#fdca26"
             ],
             [
              1,
              "#f0f921"
             ]
            ],
            "type": "surface"
           }
          ],
          "table": [
           {
            "cells": {
             "fill": {
              "color": "#EBF0F8"
             },
             "line": {
              "color": "white"
             }
            },
            "header": {
             "fill": {
              "color": "#C8D4E3"
             },
             "line": {
              "color": "white"
             }
            },
            "type": "table"
           }
          ]
         },
         "layout": {
          "annotationdefaults": {
           "arrowcolor": "#2a3f5f",
           "arrowhead": 0,
           "arrowwidth": 1
          },
          "autotypenumbers": "strict",
          "coloraxis": {
           "colorbar": {
            "outlinewidth": 0,
            "ticks": ""
           }
          },
          "colorscale": {
           "diverging": [
            [
             0,
             "#8e0152"
            ],
            [
             0.1,
             "#c51b7d"
            ],
            [
             0.2,
             "#de77ae"
            ],
            [
             0.3,
             "#f1b6da"
            ],
            [
             0.4,
             "#fde0ef"
            ],
            [
             0.5,
             "#f7f7f7"
            ],
            [
             0.6,
             "#e6f5d0"
            ],
            [
             0.7,
             "#b8e186"
            ],
            [
             0.8,
             "#7fbc41"
            ],
            [
             0.9,
             "#4d9221"
            ],
            [
             1,
             "#276419"
            ]
           ],
           "sequential": [
            [
             0,
             "#0d0887"
            ],
            [
             0.1111111111111111,
             "#46039f"
            ],
            [
             0.2222222222222222,
             "#7201a8"
            ],
            [
             0.3333333333333333,
             "#9c179e"
            ],
            [
             0.4444444444444444,
             "#bd3786"
            ],
            [
             0.5555555555555556,
             "#d8576b"
            ],
            [
             0.6666666666666666,
             "#ed7953"
            ],
            [
             0.7777777777777778,
             "#fb9f3a"
            ],
            [
             0.8888888888888888,
             "#fdca26"
            ],
            [
             1,
             "#f0f921"
            ]
           ],
           "sequentialminus": [
            [
             0,
             "#0d0887"
            ],
            [
             0.1111111111111111,
             "#46039f"
            ],
            [
             0.2222222222222222,
             "#7201a8"
            ],
            [
             0.3333333333333333,
             "#9c179e"
            ],
            [
             0.4444444444444444,
             "#bd3786"
            ],
            [
             0.5555555555555556,
             "#d8576b"
            ],
            [
             0.6666666666666666,
             "#ed7953"
            ],
            [
             0.7777777777777778,
             "#fb9f3a"
            ],
            [
             0.8888888888888888,
             "#fdca26"
            ],
            [
             1,
             "#f0f921"
            ]
           ]
          },
          "colorway": [
           "#636efa",
           "#EF553B",
           "#00cc96",
           "#ab63fa",
           "#FFA15A",
           "#19d3f3",
           "#FF6692",
           "#B6E880",
           "#FF97FF",
           "#FECB52"
          ],
          "font": {
           "color": "#2a3f5f"
          },
          "geo": {
           "bgcolor": "white",
           "lakecolor": "white",
           "landcolor": "#E5ECF6",
           "showlakes": true,
           "showland": true,
           "subunitcolor": "white"
          },
          "hoverlabel": {
           "align": "left"
          },
          "hovermode": "closest",
          "mapbox": {
           "style": "light"
          },
          "paper_bgcolor": "white",
          "plot_bgcolor": "#E5ECF6",
          "polar": {
           "angularaxis": {
            "gridcolor": "white",
            "linecolor": "white",
            "ticks": ""
           },
           "bgcolor": "#E5ECF6",
           "radialaxis": {
            "gridcolor": "white",
            "linecolor": "white",
            "ticks": ""
           }
          },
          "scene": {
           "xaxis": {
            "backgroundcolor": "#E5ECF6",
            "gridcolor": "white",
            "gridwidth": 2,
            "linecolor": "white",
            "showbackground": true,
            "ticks": "",
            "zerolinecolor": "white"
           },
           "yaxis": {
            "backgroundcolor": "#E5ECF6",
            "gridcolor": "white",
            "gridwidth": 2,
            "linecolor": "white",
            "showbackground": true,
            "ticks": "",
            "zerolinecolor": "white"
           },
           "zaxis": {
            "backgroundcolor": "#E5ECF6",
            "gridcolor": "white",
            "gridwidth": 2,
            "linecolor": "white",
            "showbackground": true,
            "ticks": "",
            "zerolinecolor": "white"
           }
          },
          "shapedefaults": {
           "line": {
            "color": "#2a3f5f"
           }
          },
          "ternary": {
           "aaxis": {
            "gridcolor": "white",
            "linecolor": "white",
            "ticks": ""
           },
           "baxis": {
            "gridcolor": "white",
            "linecolor": "white",
            "ticks": ""
           },
           "bgcolor": "#E5ECF6",
           "caxis": {
            "gridcolor": "white",
            "linecolor": "white",
            "ticks": ""
           }
          },
          "title": {
           "x": 0.05
          },
          "xaxis": {
           "automargin": true,
           "gridcolor": "white",
           "linecolor": "white",
           "ticks": "",
           "title": {
            "standoff": 15
           },
           "zerolinecolor": "white",
           "zerolinewidth": 2
          },
          "yaxis": {
           "automargin": true,
           "gridcolor": "white",
           "linecolor": "white",
           "ticks": "",
           "title": {
            "standoff": 15
           },
           "zerolinecolor": "white",
           "zerolinewidth": 2
          }
         }
        },
        "title": {
         "text": "XGBoost Feature Importance"
        },
        "xaxis": {
         "title": {
          "text": "Features"
         }
        },
        "yaxis": {
         "title": {
          "text": "Importance"
         }
        }
       }
      }
     },
     "metadata": {},
     "output_type": "display_data"
    }
   ],
   "source": [
    "# Make predictions\n",
    "train_pred = xgb_model.predict(X_train)\n",
    "val_pred = xgb_model.predict(X_val)\n",
    "test_pred = xgb_model.predict(X_test)\n",
    "\n",
    "# Calculate metrics\n",
    "print(\"\\nModel Performance Metrics:\")\n",
    "print(\"-\" * 30)\n",
    "\n",
    "# Training metrics\n",
    "train_rmse = np.sqrt(mean_squared_error(y_train, train_pred))\n",
    "train_r2 = r2_score(y_train, train_pred)\n",
    "print(f\"Training RMSE: {train_rmse:.4f}\")\n",
    "print(f\"Training R2: {train_r2:.4f}\")\n",
    "\n",
    "# Validation metrics\n",
    "val_rmse = np.sqrt(mean_squared_error(y_val, val_pred))\n",
    "val_r2 = r2_score(y_val, val_pred)\n",
    "print(f\"\\nValidation RMSE: {val_rmse:.4f}\")\n",
    "print(f\"Validation R2: {val_r2:.4f}\")\n",
    "\n",
    "# Test metrics\n",
    "test_rmse = np.sqrt(mean_squared_error(y_test, test_pred))\n",
    "test_r2 = r2_score(y_test, test_pred)\n",
    "print(f\"\\nTest RMSE: {test_rmse:.4f}\")\n",
    "print(f\"Test R2: {test_r2:.4f}\")\n",
    "\n",
    "# Feature importance plot\n",
    "feature_importance = pd.DataFrame({\n",
    "    'feature': X_train.columns,\n",
    "    'importance': xgb_model.feature_importances_\n",
    "})\n",
    "feature_importance = feature_importance.sort_values('importance', ascending=False)\n",
    "\n",
    "import plotly.graph_objects as go\n",
    "\n",
    "fig = go.Figure(data=[go.Bar(\n",
    "    x=feature_importance['feature'],\n",
    "    y=feature_importance['importance'],\n",
    "    text=feature_importance['importance'],\n",
    "    textposition='inside',\n",
    "    orientation='v',\n",
    "    marker=dict(\n",
    "        line=dict(color='rgba(246, 78, 139, 1.1)', width=1),\n",
    "        color='rgba(58, 71, 80, 0.6)'\n",
    "    ),\n",
    ")])\n",
    "fig.update_layout(\n",
    "    title_text='XGBoost Feature Importance',\n",
    "    xaxis_title_text='Features',\n",
    "    yaxis_title_text='Importance',\n",
    "    bargap=0.2,\n",
    "    bargroupgap=0.1\n",
    ")\n",
    "fig.show()\n"
   ]
  },
  {
   "cell_type": "code",
   "execution_count": null,
   "metadata": {},
   "outputs": [],
   "source": []
  }
 ],
 "metadata": {
  "kernelspec": {
   "display_name": "cs326",
   "language": "python",
   "name": "python3"
  },
  "language_info": {
   "codemirror_mode": {
    "name": "ipython",
    "version": 3
   },
   "file_extension": ".py",
   "mimetype": "text/x-python",
   "name": "python",
   "nbconvert_exporter": "python",
   "pygments_lexer": "ipython3",
   "version": "3.10.14"
  }
 },
 "nbformat": 4,
 "nbformat_minor": 2
}
