{
 "cells": [
  {
   "cell_type": "code",
   "execution_count": 3,
   "metadata": {},
   "outputs": [],
   "source": [
    "import sklearn\n",
    "from sklearn.linear_model import LinearRegression\n",
    "from sklearn.decomposition import PCA\n",
    "from sklearn.model_selection import KFold\n",
    "from sklearn.metrics import root_mean_squared_error\n",
    "import pandas as pd"
   ]
  },
  {
   "cell_type": "code",
   "execution_count": 19,
   "metadata": {},
   "outputs": [
    {
     "name": "stdout",
     "output_type": "stream",
     "text": [
      "Index(['MainBranch', 'RemoteWork', 'DevType', 'Country', 'AISelect'], dtype='object')\n"
     ]
    }
   ],
   "source": [
    "train_df: pd.DataFrame = pd.read_pickle('train_df_20241121_223002.pkl')\n",
    "val_df: pd.DataFrame = pd.read_pickle('val_df_20241121_223002.pkl')\n",
    "test_df: pd.DataFrame = pd.read_pickle('test_df_20241121_223002.pkl')\n",
    "\n",
    "df = pd.concat([train_df, val_df, test_df])\n",
    "\n",
    "print(df.select_dtypes(include=['object']).columns)\n",
    "\n",
    "x = df.drop(columns=['ConvertedCompYearly', 'MainBranch', 'RemoteWork', 'DevType', 'Country', 'AISelect'])\n",
    "y = df['ConvertedCompYearly']"
   ]
  },
  {
   "cell_type": "code",
   "execution_count": 20,
   "metadata": {},
   "outputs": [],
   "source": [
    "k_fold = KFold(n_splits=5, shuffle=True, random_state=42)"
   ]
  },
  {
   "cell_type": "code",
   "execution_count": 21,
   "metadata": {},
   "outputs": [
    {
     "name": "stdout",
     "output_type": "stream",
     "text": [
      "166713.28969145412\n",
      "140399.5165855728\n",
      "220306.91412115097\n",
      "256637.8044280489\n",
      "152131.40323450672\n"
     ]
    }
   ],
   "source": [
    "for train_index, test_index in k_fold.split(x):\n",
    "    X_train, X_test = x.iloc[train_index], x.iloc[test_index]\n",
    "    y_train, y_test = y.iloc[train_index], y.iloc[test_index]\n",
    "\n",
    "    pca = PCA()\n",
    "\n",
    "    X_train_pca = pca.fit_transform(X_train)\n",
    "    X_test_pca = pca.transform(X_test)\n",
    "\n",
    "    model = LinearRegression()\n",
    "    model.fit(X_train_pca, y_train)\n",
    "\n",
    "    y_pred = model.predict(X_test_pca)\n",
    "\n",
    "    rmse = root_mean_squared_error(y_test, y_pred)\n",
    "    print(rmse)\n",
    "\n"
   ]
  }
 ],
 "metadata": {
  "kernelspec": {
   "display_name": "cs326",
   "language": "python",
   "name": "python3"
  },
  "language_info": {
   "codemirror_mode": {
    "name": "ipython",
    "version": 3
   },
   "file_extension": ".py",
   "mimetype": "text/x-python",
   "name": "python",
   "nbconvert_exporter": "python",
   "pygments_lexer": "ipython3",
   "version": "3.10.14"
  }
 },
 "nbformat": 4,
 "nbformat_minor": 2
}
